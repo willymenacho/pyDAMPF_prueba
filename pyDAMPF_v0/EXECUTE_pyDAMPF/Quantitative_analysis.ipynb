{
 "cells": [
  {
   "cell_type": "code",
   "execution_count": 1,
   "id": "0a3bb7c5",
   "metadata": {
    "scrolled": true
   },
   "outputs": [
    {
     "ename": "FileNotFoundError",
     "evalue": "[Errno 2] No such file or directory: 'tempall.txt'",
     "output_type": "error",
     "traceback": [
      "\u001b[0;31m---------------------------------------------------------------------------\u001b[0m",
      "\u001b[0;31mFileNotFoundError\u001b[0m                         Traceback (most recent call last)",
      "\u001b[0;32m/tmp/ipykernel_37384/3265281216.py\u001b[0m in \u001b[0;36m<module>\u001b[0;34m\u001b[0m\n\u001b[1;32m      6\u001b[0m \u001b[0;32mimport\u001b[0m \u001b[0mqgrid\u001b[0m\u001b[0;34m\u001b[0m\u001b[0;34m\u001b[0m\u001b[0m\n\u001b[1;32m      7\u001b[0m \u001b[0;34m\u001b[0m\u001b[0m\n\u001b[0;32m----> 8\u001b[0;31m \u001b[0mtempall\u001b[0m \u001b[0;34m=\u001b[0m \u001b[0mnp\u001b[0m\u001b[0;34m.\u001b[0m\u001b[0mgenfromtxt\u001b[0m\u001b[0;34m(\u001b[0m\u001b[0mopen\u001b[0m\u001b[0;34m(\u001b[0m\u001b[0;34m'tempall.txt'\u001b[0m\u001b[0;34m,\u001b[0m\u001b[0;34m\"r\"\u001b[0m\u001b[0;34m)\u001b[0m\u001b[0;34m)\u001b[0m\u001b[0;34m\u001b[0m\u001b[0;34m\u001b[0m\u001b[0m\n\u001b[0m\u001b[1;32m      9\u001b[0m \u001b[0mmodel\u001b[0m \u001b[0;34m=\u001b[0m \u001b[0mpd\u001b[0m\u001b[0;34m.\u001b[0m\u001b[0mread_csv\u001b[0m\u001b[0;34m(\u001b[0m\u001b[0;34m\"cantileversdata_model.cvs\"\u001b[0m\u001b[0;34m)\u001b[0m\u001b[0;34m\u001b[0m\u001b[0;34m\u001b[0m\u001b[0m\n\u001b[1;32m     10\u001b[0m \u001b[0mcasos\u001b[0m \u001b[0;34m=\u001b[0m \u001b[0mnp\u001b[0m\u001b[0;34m.\u001b[0m\u001b[0marray\u001b[0m\u001b[0;34m(\u001b[0m\u001b[0mlen\u001b[0m\u001b[0;34m(\u001b[0m\u001b[0mtempall\u001b[0m\u001b[0;34m[\u001b[0m\u001b[0;34m:\u001b[0m\u001b[0;34m,\u001b[0m\u001b[0;36m0\u001b[0m\u001b[0;34m]\u001b[0m\u001b[0;34m)\u001b[0m\u001b[0;34m)\u001b[0m\u001b[0;34m\u001b[0m\u001b[0;34m\u001b[0m\u001b[0m\n",
      "\u001b[0;31mFileNotFoundError\u001b[0m: [Errno 2] No such file or directory: 'tempall.txt'"
     ]
    }
   ],
   "source": [
    "import pandas as pd\n",
    "import numpy as np\n",
    "import os\n",
    "from IPython.display import display\n",
    "import tabloo\n",
    "import qgrid\n",
    "\n",
    "tempall = np.genfromtxt(open('tempall.txt',\"r\"))\n",
    "model = pd.read_csv(\"cantileversdata_model.cvs\")\n",
    "casos = np.array(len(tempall[:,0]))\n",
    "\n",
    "\n",
    "def findfile(name, path):\n",
    "    for dirpath, dirname, filename in os.walk(path):\n",
    "        if name in filename:\n",
    "            return os.path.join(dirpath, name)\n",
    "\n",
    "#dominio temporal\n",
    "direc = os.getcwd()\n",
    "direc = direc+'/PARALLELBASIC_0/'\n",
    "forcet=[];maxforcet=[];vdwt=[];hertzt=[];viscot=[];capt=[];ljt=[];dlvot=[]\n",
    "     \n",
    "for i in range(casos):\n",
    "    filepatht = findfile(\"tdom\"+str(i+1)+\".dfo\", direc)\n",
    "    tdom = np.genfromtxt(open(str(filepatht),\"r\"))        \n",
    "    forcet.append(tdom[:,4])\n",
    "    maxforcet.append(tdom[:,5])\n",
    "    vdwt.append(tdom[:,6])\n",
    "    hertzt.append(tdom[:,7])\n",
    "    viscot.append(tdom[:,8])\n",
    "    capt.append(tdom [:,9]) \n",
    "    ljt.append(tdom[:,10])\n",
    "    dlvot.append(tdom [:,11])    \n",
    "    \n",
    "forcetM=[];vdwtM=[];hertztM=[];viscotM=[];captM=[];ljtM=[];dlvotM=[]\n",
    "for j in range(casos):\n",
    "    forcetM.append([max(forcet[j])]) \n",
    "    vdwtM.append([max(vdwt[j])]) \n",
    "    hertztM.append([max(hertzt[j])]) \n",
    "    viscotM.append([max(viscot[j])]) \n",
    "    captM.append([max(capt[j])]) \n",
    "    ljtM.append([max(ljt[j])]) \n",
    "    dlvotM.append([max(dlvot[j])]) \n",
    "\n",
    "df = model.assign(ID=tempall[:,0] , LENGTH=tempall[:,1], WIDTH=tempall[:,2], THICKNESS=tempall[:,3] , F0=tempall[:,4] , R_tip=tempall[:,5] , Kc=tempall[:,6] , VOLUME=tempall[:,8] , A0=tempall[:,15] , RH=tempall[:,29] , Es=tempall[:,16], Q=tempall[:,17], F_Total=forcetM , F_Hertz=hertztM , F_vdw=vdwtM , F_vis=viscotM , F_cap=captM , F_LJ=ljtM , F_DLVO=dlvotM )\n",
    "#display(df)\n",
    "tabloo.show(df)\n",
    "\n",
    "#For more information on the use of tabloo please visit https://github.com/bluenote10/tabloo\n"
   ]
  },
  {
   "cell_type": "code",
   "execution_count": null,
   "id": "c7a851c0",
   "metadata": {},
   "outputs": [],
   "source": []
  }
 ],
 "metadata": {
  "kernelspec": {
   "display_name": "Python 3 (ipykernel)",
   "language": "python",
   "name": "python3"
  },
  "language_info": {
   "codemirror_mode": {
    "name": "ipython",
    "version": 3
   },
   "file_extension": ".py",
   "mimetype": "text/x-python",
   "name": "python",
   "nbconvert_exporter": "python",
   "pygments_lexer": "ipython3",
   "version": "3.9.7"
  }
 },
 "nbformat": 4,
 "nbformat_minor": 5
}
